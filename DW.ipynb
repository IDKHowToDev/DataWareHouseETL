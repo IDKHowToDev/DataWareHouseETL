{
 "cells": [
  {
   "cell_type": "code",
   "execution_count": 52,
   "id": "37ea38bb",
   "metadata": {},
   "outputs": [],
   "source": [
    "import numpy as np\n",
    "import pymysql\n",
    "import pandas as pd\n",
    "from datetime import datetime\n",
    "import glob \n",
    "import os"
   ]
  },
  {
   "cell_type": "code",
   "execution_count": null,
   "id": "f652e3cf",
   "metadata": {},
   "outputs": [],
   "source": []
  },
  {
   "cell_type": "code",
   "execution_count": 53,
   "id": "8064c7d6",
   "metadata": {},
   "outputs": [
    {
     "name": "stdout",
     "output_type": "stream",
     "text": [
      ",,E     36693\n",
      ",I,E      144\n",
      "Name: TMIN_ATTRIBUTES, dtype: int64\n"
     ]
    }
   ],
   "source": [
    "df1=pd.read_csv('data\\Algeria\\Weather_1920-1929_ALGERIA.csv',sep=',',encoding='cp1252')\n",
    "unique_values = df1['TMIN_ATTRIBUTES'].unique()\n",
    "value_counts = df1['TMIN_ATTRIBUTES'].value_counts()\n",
    "print(value_counts)"
   ]
  },
  {
   "cell_type": "code",
   "execution_count": null,
   "id": "e9788ff0",
   "metadata": {},
   "outputs": [],
   "source": []
  },
  {
   "cell_type": "code",
   "execution_count": 54,
   "id": "18b90a44",
   "metadata": {},
   "outputs": [
    {
     "name": "stdout",
     "output_type": "stream",
     "text": [
      ",,E     37918\n",
      ",I,E      153\n",
      "Name: TMIN_ATTRIBUTES, dtype: int64\n"
     ]
    }
   ],
   "source": [
    "df2=pd.read_csv('data\\Algeria\\Weather_1930-1939_ALGERIA.csv',sep=',',encoding='cp1252')\n",
    "unique_values = df2['TMIN_ATTRIBUTES'].unique()\n",
    "value_counts = df2['TMIN_ATTRIBUTES'].value_counts()\n",
    "print(value_counts)"
   ]
  },
  {
   "cell_type": "code",
   "execution_count": 55,
   "id": "f99876cf",
   "metadata": {},
   "outputs": [
    {
     "name": "stdout",
     "output_type": "stream",
     "text": [
      ",,G     7070\n",
      ",,E     3606\n",
      ",I,E       1\n",
      ",I,G       1\n",
      "Name: TMIN_ATTRIBUTES, dtype: int64\n"
     ]
    }
   ],
   "source": [
    "df3=pd.read_csv('data\\Algeria\\Weather_1940-1949_ALGERIA.csv',sep=',',encoding='cp1252')\n",
    "unique_values = df3['TMIN_ATTRIBUTES'].unique()\n",
    "value_counts = df3['TMIN_ATTRIBUTES'].value_counts()\n",
    "print(value_counts)"
   ]
  },
  {
   "cell_type": "code",
   "execution_count": 56,
   "id": "6ee6b81b",
   "metadata": {},
   "outputs": [
    {
     "data": {
      "text/plain": [
       "(array([    0,     0,     0, ..., 40120, 40121, 40121], dtype=int64),\n",
       " array([ 8,  9, 12, ...,  9,  8,  9], dtype=int64))"
      ]
     },
     "execution_count": 56,
     "metadata": {},
     "output_type": "execute_result"
    }
   ],
   "source": [
    "np.where(pd.isnull(df1))"
   ]
  },
  {
   "cell_type": "code",
   "execution_count": 78,
   "id": "0a713dd6",
   "metadata": {},
   "outputs": [
    {
     "data": {
      "text/plain": [
       "STATION            0\n",
       "NAME               0\n",
       "LATITUDE           0\n",
       "LONGITUDE          0\n",
       "ELEVATION          0\n",
       "DATE               0\n",
       "PRCP               0\n",
       "PRCP_ATTRIBUTES    0\n",
       "TAVG               0\n",
       "TAVG_ATTRIBUTES    0\n",
       "TMAX               0\n",
       "TMAX_ATTRIBUTES    0\n",
       "TMIN               0\n",
       "TMIN_ATTRIBUTES    0\n",
       "dtype: int64"
      ]
     },
     "execution_count": 78,
     "metadata": {},
     "output_type": "execute_result"
    }
   ],
   "source": [
    "# np.where(df1.applymap(lambda x: x == '')) #idk what this does for now \n",
    "newdf.isnull().sum()"
   ]
  },
  {
   "cell_type": "code",
   "execution_count": 48,
   "id": "c663b09c",
   "metadata": {},
   "outputs": [
    {
     "data": {
      "text/html": [
       "<div>\n",
       "<style scoped>\n",
       "    .dataframe tbody tr th:only-of-type {\n",
       "        vertical-align: middle;\n",
       "    }\n",
       "\n",
       "    .dataframe tbody tr th {\n",
       "        vertical-align: top;\n",
       "    }\n",
       "\n",
       "    .dataframe thead th {\n",
       "        text-align: right;\n",
       "    }\n",
       "</style>\n",
       "<table border=\"1\" class=\"dataframe\">\n",
       "  <thead>\n",
       "    <tr style=\"text-align: right;\">\n",
       "      <th></th>\n",
       "      <th>STATION</th>\n",
       "      <th>NAME</th>\n",
       "      <th>LATITUDE</th>\n",
       "      <th>LONGITUDE</th>\n",
       "      <th>ELEVATION</th>\n",
       "      <th>DATE</th>\n",
       "      <th>PRCP</th>\n",
       "      <th>PRCP_ATTRIBUTES</th>\n",
       "      <th>TAVG</th>\n",
       "      <th>TAVG_ATTRIBUTES</th>\n",
       "      <th>TMAX</th>\n",
       "      <th>TMAX_ATTRIBUTES</th>\n",
       "      <th>TMIN</th>\n",
       "      <th>TMIN_ATTRIBUTES</th>\n",
       "    </tr>\n",
       "  </thead>\n",
       "  <tbody>\n",
       "    <tr>\n",
       "      <th>21</th>\n",
       "      <td>AGE00147709</td>\n",
       "      <td>FORT NATIONAL, AG</td>\n",
       "      <td>36.63</td>\n",
       "      <td>4.2</td>\n",
       "      <td>942.0</td>\n",
       "      <td>1930-01-22</td>\n",
       "      <td>0.0</td>\n",
       "      <td>,,E</td>\n",
       "      <td>NaN</td>\n",
       "      <td>NaN</td>\n",
       "      <td>11.0</td>\n",
       "      <td>,,E</td>\n",
       "      <td>6.0</td>\n",
       "      <td>,,E</td>\n",
       "    </tr>\n",
       "  </tbody>\n",
       "</table>\n",
       "</div>"
      ],
      "text/plain": [
       "        STATION               NAME  LATITUDE  LONGITUDE  ELEVATION  \\\n",
       "21  AGE00147709  FORT NATIONAL, AG     36.63        4.2      942.0   \n",
       "\n",
       "          DATE  PRCP PRCP_ATTRIBUTES  TAVG  TAVG_ATTRIBUTES  TMAX  \\\n",
       "21  1930-01-22   0.0             ,,E   NaN              NaN  11.0   \n",
       "\n",
       "   TMAX_ATTRIBUTES  TMIN TMIN_ATTRIBUTES  \n",
       "21             ,,E   6.0             ,,E  "
      ]
     },
     "execution_count": 48,
     "metadata": {},
     "output_type": "execute_result"
    }
   ],
   "source": [
    "df2.iloc[[21]] #show line 21"
   ]
  },
  {
   "cell_type": "code",
   "execution_count": 77,
   "id": "48a3689f",
   "metadata": {},
   "outputs": [
    {
     "name": "stdout",
     "output_type": "stream",
     "text": [
      "object float64 float64 float64 object float64 object float64 float64 float64 object float64 object\n"
     ]
    }
   ],
   "source": [
    "# \n",
    "#df2['TAVG'].dtypes\n",
    "print(newdf['NAME'].dtypes,newdf['LATITUDE'].dtypes,newdf['LONGITUDE'].dtypes,newdf['ELEVATION'].dtypes,newdf['DATE'].dtypes,newdf['PRCP'].dtypes,newdf['PRCP_ATTRIBUTES'].dtypes,newdf['TAVG'].dtypes,newdf['TAVG_ATTRIBUTES'].dtypes,newdf['TMAX'].dtypes,newdf['TMAX_ATTRIBUTES'].dtypes,newdf['TMIN'].dtypes,newdf['TMIN_ATTRIBUTES'].dtypes)"
   ]
  },
  {
   "cell_type": "code",
   "execution_count": 75,
   "id": "ce084ddb",
   "metadata": {},
   "outputs": [],
   "source": [
    "newdf=traitment(df2)"
   ]
  },
  {
   "cell_type": "code",
   "execution_count": 8,
   "id": "1c456d01",
   "metadata": {},
   "outputs": [
    {
     "data": {
      "text/plain": [
       "dtype('float64')"
      ]
     },
     "execution_count": 8,
     "metadata": {},
     "output_type": "execute_result"
    }
   ],
   "source": [
    "df2['TAVG_ATTRIBUTES'].dtypes"
   ]
  },
  {
   "cell_type": "code",
   "execution_count": 9,
   "id": "d4abff29",
   "metadata": {},
   "outputs": [],
   "source": [
    "df2['TMIN_ATTRIBUTES'] = df2['TMIN_ATTRIBUTES'].astype('|S')"
   ]
  },
  {
   "cell_type": "code",
   "execution_count": 21,
   "id": "e7b9622b",
   "metadata": {},
   "outputs": [],
   "source": [
    "df2['TAVG'].fillna(value=0,inplace=True)\n",
    "df2['PRCP'].fillna(value=0,inplace=True)\n",
    "df2['TMAX'].fillna(value=0,inplace=True)\n",
    "df2['TMIN'].fillna(value=0,inplace=True)\n"
   ]
  },
  {
   "cell_type": "code",
   "execution_count": 11,
   "id": "e56e62b0",
   "metadata": {},
   "outputs": [
    {
     "data": {
      "text/plain": [
       "dtype('S4')"
      ]
     },
     "execution_count": 11,
     "metadata": {},
     "output_type": "execute_result"
    }
   ],
   "source": [
    "df2['TMIN_ATTRIBUTES'].dtypes"
   ]
  },
  {
   "cell_type": "code",
   "execution_count": 72,
   "id": "a175b742",
   "metadata": {},
   "outputs": [],
   "source": [
    "df2.isnull().sum()\n",
    "df2['TMIN_ATTRIBUTES']=df2['TMIN_ATTRIBUTES'].astype(str)"
   ]
  },
  {
   "cell_type": "markdown",
   "id": "ffa8e465",
   "metadata": {},
   "source": [
    " ## object object float float float object float object object float float float object float object \n",
    "                                        0   random          0       random          0   random          0   random\n",
    "NAME,LATITUDE,LONGITUDE,ELEVATION,DATE,PRCP,PRCP_ATTRIBUTES,TAVG,TAVG_ATTRIBUTES,TMAX,TMAX_ATTRIBUTES,TMIN,TMIN_ATTRIBUTES\n",
    "object float64 float64   float64 object float64 object      float64 float64 float64 object float64     object"
   ]
  },
  {
   "cell_type": "code",
   "execution_count": 20,
   "id": "7799e01c",
   "metadata": {},
   "outputs": [
    {
     "name": "stdout",
     "output_type": "stream",
     "text": [
      "False\n",
      "False\n",
      "True\n",
      "True\n",
      "True\n",
      "False\n",
      "True\n",
      "False\n",
      "True\n",
      "True\n",
      "True\n",
      "False\n",
      "True\n",
      "False\n"
     ]
    }
   ],
   "source": [
    "for e in df2.columns:\n",
    "    print(df2[e].dtypes==float)"
   ]
  },
  {
   "cell_type": "code",
   "execution_count": 73,
   "id": "9d36fbed",
   "metadata": {},
   "outputs": [
    {
     "data": {
      "text/plain": [
       "dtype('O')"
      ]
     },
     "execution_count": 73,
     "metadata": {},
     "output_type": "execute_result"
    }
   ],
   "source": [
    "df2['TMIN_ATTRIBUTES'].dtypes"
   ]
  },
  {
   "cell_type": "code",
   "execution_count": null,
   "id": "9ff61c99",
   "metadata": {},
   "outputs": [],
   "source": []
  },
  {
   "cell_type": "code",
   "execution_count": 74,
   "id": "2f92e047",
   "metadata": {},
   "outputs": [],
   "source": [
    "def traitment(df):\n",
    "    df2=df.copy()\n",
    "    for e in df.columns:\n",
    "        if df[e].dtypes==object:\n",
    "            df2[e]=df[e].astype(str)\n",
    "            df2[e]=df[e].fillna(',,E')\n",
    "        elif df[e].dtypes==float:\n",
    "            # df[e]=df[e].apply(lambda x: df[e].fillna(value=0) if df[e].isnull(x))\n",
    "            df2[e]=df[e].fillna(value=0)\n",
    "    return df2       \n",
    "            \n",
    "# def NoEpmtyStrings(df,randomwords):\n",
    "#     df2=df.copy()\n",
    "#     for e in df.columns:\n",
    "#         if df[e].dy            \n"
   ]
  },
  {
   "cell_type": "code",
   "execution_count": 7,
   "id": "51e9d513",
   "metadata": {},
   "outputs": [
    {
     "ename": "NameError",
     "evalue": "name '__file__' is not defined",
     "output_type": "error",
     "traceback": [
      "\u001b[1;31m---------------------------------------------------------------------------\u001b[0m",
      "\u001b[1;31mNameError\u001b[0m                                 Traceback (most recent call last)",
      "\u001b[1;32m~\\AppData\\Local\\Temp\\ipykernel_8176\\702062712.py\u001b[0m in \u001b[0;36m<module>\u001b[1;34m\u001b[0m\n\u001b[0;32m      7\u001b[0m         \u001b[1;32mreturn\u001b[0m \u001b[0mlocationdf\u001b[0m\u001b[1;33m,\u001b[0m\u001b[0mdatedf\u001b[0m\u001b[1;33m,\u001b[0m\u001b[0mweatherfact\u001b[0m\u001b[1;33m\u001b[0m\u001b[1;33m\u001b[0m\u001b[0m\n\u001b[0;32m      8\u001b[0m \u001b[1;33m\u001b[0m\u001b[0m\n\u001b[1;32m----> 9\u001b[1;33m \u001b[0mcurrent_dir\u001b[0m \u001b[1;33m=\u001b[0m \u001b[0mos\u001b[0m\u001b[1;33m.\u001b[0m\u001b[0mpath\u001b[0m\u001b[1;33m.\u001b[0m\u001b[0mdirname\u001b[0m\u001b[1;33m(\u001b[0m\u001b[0mos\u001b[0m\u001b[1;33m.\u001b[0m\u001b[0mpath\u001b[0m\u001b[1;33m.\u001b[0m\u001b[0mabspath\u001b[0m\u001b[1;33m(\u001b[0m\u001b[0m__file__\u001b[0m\u001b[1;33m)\u001b[0m\u001b[1;33m)\u001b[0m\u001b[1;33m\u001b[0m\u001b[1;33m\u001b[0m\u001b[0m\n\u001b[0m\u001b[0;32m     10\u001b[0m \u001b[0malgeria_folder\u001b[0m \u001b[1;33m=\u001b[0m \u001b[0mos\u001b[0m\u001b[1;33m.\u001b[0m\u001b[0mpath\u001b[0m\u001b[1;33m.\u001b[0m\u001b[0mjoin\u001b[0m\u001b[1;33m(\u001b[0m\u001b[0mcurrent_dir\u001b[0m\u001b[1;33m,\u001b[0m \u001b[1;34m'..'\u001b[0m\u001b[1;33m,\u001b[0m \u001b[1;34m'data/Algeria'\u001b[0m\u001b[1;33m)\u001b[0m\u001b[1;33m\u001b[0m\u001b[1;33m\u001b[0m\u001b[0m\n\u001b[0;32m     11\u001b[0m \u001b[0mmorocco_folder\u001b[0m \u001b[1;33m=\u001b[0m \u001b[0mos\u001b[0m\u001b[1;33m.\u001b[0m\u001b[0mpath\u001b[0m\u001b[1;33m.\u001b[0m\u001b[0mjoin\u001b[0m\u001b[1;33m(\u001b[0m\u001b[0mcurrent_dir\u001b[0m\u001b[1;33m,\u001b[0m \u001b[1;34m'..'\u001b[0m\u001b[1;33m,\u001b[0m \u001b[1;34m'data/Morocco'\u001b[0m\u001b[1;33m)\u001b[0m\u001b[1;33m\u001b[0m\u001b[1;33m\u001b[0m\u001b[0m\n",
      "\u001b[1;31mNameError\u001b[0m: name '__file__' is not defined"
     ]
    }
   ],
   "source": [
    "# def extraction(csvfolder):\n",
    "#     for filepath in csvfolder:\n",
    "#         df=pd.read_csv(filepath,sep=\",\", encoding='cp1252')\n",
    "#         locationdf=df[['STATION', 'NAME', 'LATITUDE', 'LONGITUDE', 'ELEVATION']].drop_duplicates()\n",
    "#         weatherfact= df[['STATION', 'DATE', 'PRCP', 'PRCP_ATTRIBUTES', 'TAVG', 'TAVG_ATTRIBUTES','TMAX', 'TMAX_ATTRIBUTES', 'TMIN', 'TMIN_ATTRIBUTES']]\n",
    "#         datedf=df[['DATE']].drop_duplicates()\n",
    "#         return locationdf,datedf,weatherfact\n",
    "\n",
    "# current_dir = os.path.dirname(os.path.abspath(__file__))\n",
    "# algeria_folder = os.path.join(current_dir, '..', 'data/Algeria')\n",
    "# morocco_folder = os.path.join(current_dir, '..', 'data/Morocco')\n",
    "# tunisia_folder = os.path.join(current_dir, '..', 'data/Tunisia')\n",
    "# csv_files1 = glob.glob(os.path.join(algeria_folder, '*.csv'))\n",
    "# csv_files2 = glob.glob(os.path.join(morocco_folder, '*.csv'))\n",
    "# csv_files3 = glob.glob(os.path.join(tunisia_folder, '*.csv'))"
   ]
  }
 ],
 "metadata": {
  "kernelspec": {
   "display_name": "Python 3 (ipykernel)",
   "language": "python",
   "name": "python3"
  },
  "language_info": {
   "codemirror_mode": {
    "name": "ipython",
    "version": 3
   },
   "file_extension": ".py",
   "mimetype": "text/x-python",
   "name": "python",
   "nbconvert_exporter": "python",
   "pygments_lexer": "ipython3",
   "version": "3.9.13"
  }
 },
 "nbformat": 4,
 "nbformat_minor": 5
}

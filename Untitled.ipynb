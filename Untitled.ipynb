{
 "cells": [
  {
   "cell_type": "code",
   "execution_count": null,
   "id": "37ea38bb",
   "metadata": {},
   "outputs": [],
   "source": [
    "import numpy as np\n",
    "import pymysql\n",
    "import pandas as pd\n",
    "from datetime import datetime"
   ]
  },
  {
   "cell_type": "code",
   "execution_count": 2,
   "id": "8064c7d6",
   "metadata": {},
   "outputs": [
    {
     "name": "stdout",
     "output_type": "stream",
     "text": [
      ",,E     36693\n",
      ",I,E      144\n",
      "Name: TMIN_ATTRIBUTES, dtype: int64\n"
     ]
    }
   ],
   "source": [
    "df1=pd.read_csv('data\\Algeria\\Weather_1920-1929_ALGERIA.csv',sep=',',encoding='cp1252')\n",
    "unique_values = df1['TMIN_ATTRIBUTES'].unique()\n",
    "value_counts = df1['TMIN_ATTRIBUTES'].value_counts()\n",
    "print(value_counts)"
   ]
  },
  {
   "cell_type": "code",
   "execution_count": 3,
   "id": "18b90a44",
   "metadata": {},
   "outputs": [
    {
     "name": "stdout",
     "output_type": "stream",
     "text": [
      ",,E     37918\n",
      ",I,E      153\n",
      "Name: TMIN_ATTRIBUTES, dtype: int64\n"
     ]
    }
   ],
   "source": [
    "df2=pd.read_csv('data\\Algeria\\Weather_1930-1939_ALGERIA.csv',sep=',',encoding='cp1252')\n",
    "unique_values = df2['TMIN_ATTRIBUTES'].unique()\n",
    "value_counts = df2['TMIN_ATTRIBUTES'].value_counts()\n",
    "print(value_counts)"
   ]
  },
  {
   "cell_type": "code",
   "execution_count": 4,
   "id": "f99876cf",
   "metadata": {},
   "outputs": [
    {
     "name": "stdout",
     "output_type": "stream",
     "text": [
      ",,G     7070\n",
      ",,E     3606\n",
      ",I,E       1\n",
      ",I,G       1\n",
      "Name: TMIN_ATTRIBUTES, dtype: int64\n"
     ]
    }
   ],
   "source": [
    "df3=pd.read_csv('data\\Algeria\\Weather_1940-1949_ALGERIA.csv',sep=',',encoding='cp1252')\n",
    "unique_values = df3['TMIN_ATTRIBUTES'].unique()\n",
    "value_counts = df3['TMIN_ATTRIBUTES'].value_counts()\n",
    "print(value_counts)"
   ]
  },
  {
   "cell_type": "code",
   "execution_count": 5,
   "id": "6ee6b81b",
   "metadata": {},
   "outputs": [
    {
     "data": {
      "text/plain": [
       "(array([    0,     0,     0, ..., 40120, 40121, 40121], dtype=int64),\n",
       " array([ 8,  9, 12, ...,  9,  8,  9], dtype=int64))"
      ]
     },
     "execution_count": 5,
     "metadata": {},
     "output_type": "execute_result"
    }
   ],
   "source": [
    "np.where(pd.isnull(df1))"
   ]
  },
  {
   "cell_type": "code",
   "execution_count": 14,
   "id": "0a713dd6",
   "metadata": {},
   "outputs": [
    {
     "data": {
      "text/plain": [
       "(array([], dtype=int64), array([], dtype=int64))"
      ]
     },
     "execution_count": 14,
     "metadata": {},
     "output_type": "execute_result"
    }
   ],
   "source": [
    "# np.where(df1.applymap(lambda x: x == '')) #idk what this does for now "
   ]
  },
  {
   "cell_type": "code",
   "execution_count": 6,
   "id": "c663b09c",
   "metadata": {},
   "outputs": [
    {
     "data": {
      "text/html": [
       "<div>\n",
       "<style scoped>\n",
       "    .dataframe tbody tr th:only-of-type {\n",
       "        vertical-align: middle;\n",
       "    }\n",
       "\n",
       "    .dataframe tbody tr th {\n",
       "        vertical-align: top;\n",
       "    }\n",
       "\n",
       "    .dataframe thead th {\n",
       "        text-align: right;\n",
       "    }\n",
       "</style>\n",
       "<table border=\"1\" class=\"dataframe\">\n",
       "  <thead>\n",
       "    <tr style=\"text-align: right;\">\n",
       "      <th></th>\n",
       "      <th>STATION</th>\n",
       "      <th>NAME</th>\n",
       "      <th>LATITUDE</th>\n",
       "      <th>LONGITUDE</th>\n",
       "      <th>ELEVATION</th>\n",
       "      <th>DATE</th>\n",
       "      <th>PRCP</th>\n",
       "      <th>PRCP_ATTRIBUTES</th>\n",
       "      <th>TAVG</th>\n",
       "      <th>TAVG_ATTRIBUTES</th>\n",
       "      <th>TMAX</th>\n",
       "      <th>TMAX_ATTRIBUTES</th>\n",
       "      <th>TMIN</th>\n",
       "      <th>TMIN_ATTRIBUTES</th>\n",
       "    </tr>\n",
       "  </thead>\n",
       "  <tbody>\n",
       "    <tr>\n",
       "      <th>21</th>\n",
       "      <td>AGE00147709</td>\n",
       "      <td>FORT NATIONAL, AG</td>\n",
       "      <td>36.63</td>\n",
       "      <td>4.2</td>\n",
       "      <td>942.0</td>\n",
       "      <td>1930-01-22</td>\n",
       "      <td>0.0</td>\n",
       "      <td>,,E</td>\n",
       "      <td>NaN</td>\n",
       "      <td>NaN</td>\n",
       "      <td>11.0</td>\n",
       "      <td>,,E</td>\n",
       "      <td>6.0</td>\n",
       "      <td>,,E</td>\n",
       "    </tr>\n",
       "  </tbody>\n",
       "</table>\n",
       "</div>"
      ],
      "text/plain": [
       "        STATION               NAME  LATITUDE  LONGITUDE  ELEVATION  \\\n",
       "21  AGE00147709  FORT NATIONAL, AG     36.63        4.2      942.0   \n",
       "\n",
       "          DATE  PRCP PRCP_ATTRIBUTES  TAVG  TAVG_ATTRIBUTES  TMAX  \\\n",
       "21  1930-01-22   0.0             ,,E   NaN              NaN  11.0   \n",
       "\n",
       "   TMAX_ATTRIBUTES  TMIN TMIN_ATTRIBUTES  \n",
       "21             ,,E   6.0             ,,E  "
      ]
     },
     "execution_count": 6,
     "metadata": {},
     "output_type": "execute_result"
    }
   ],
   "source": [
    "df2.iloc[[21]] #show line 21"
   ]
  },
  {
   "cell_type": "markdown",
   "id": "ffa8e465",
   "metadata": {},
   "source": [
    " ## object object float float float object float float object float float float object float object "
   ]
  },
  {
   "cell_type": "code",
   "execution_count": null,
   "id": "48a3689f",
   "metadata": {},
   "outputs": [],
   "source": [
    "df2['TMIN_ATTRIBUTES'].dtypes"
   ]
  },
  {
   "cell_type": "code",
   "execution_count": 12,
   "id": "d4abff29",
   "metadata": {},
   "outputs": [],
   "source": [
    "df2['TMIN_ATTRIBUTES'] = df2['TMIN_ATTRIBUTES'].astype('|S')"
   ]
  },
  {
   "cell_type": "code",
   "execution_count": 13,
   "id": "e56e62b0",
   "metadata": {},
   "outputs": [
    {
     "data": {
      "text/plain": [
       "dtype('S4')"
      ]
     },
     "execution_count": 13,
     "metadata": {},
     "output_type": "execute_result"
    }
   ],
   "source": [
    "df2['TMIN_ATTRIBUTES'].dtypes"
   ]
  }
 ],
 "metadata": {
  "kernelspec": {
   "display_name": "Python 3 (ipykernel)",
   "language": "python",
   "name": "python3"
  },
  "language_info": {
   "codemirror_mode": {
    "name": "ipython",
    "version": 3
   },
   "file_extension": ".py",
   "mimetype": "text/x-python",
   "name": "python",
   "nbconvert_exporter": "python",
   "pygments_lexer": "ipython3",
   "version": "3.9.13"
  }
 },
 "nbformat": 4,
 "nbformat_minor": 5
}
